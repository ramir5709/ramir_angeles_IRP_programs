{
 "cells": [
  {
   "cell_type": "markdown",
   "metadata": {},
   "source": [
    "# IRP STRAVA WEB-SCRAPER PROGRAM\n",
    "#### Author: Ramir Angeles SUTD MUSPP 1005709\n",
    "This is the program I produced for my Individual Research Project (IRP) for web scraping online public cycling activity data from the Strava website"
   ]
  },
  {
   "cell_type": "markdown",
   "metadata": {},
   "source": [
    "### Import packages\n",
    "Selenium was used as the web scraping tool, automating human actions at human speeds in accessing web data."
   ]
  },
  {
   "cell_type": "code",
   "execution_count": 1,
   "metadata": {},
   "outputs": [],
   "source": [
    "import selenium\n",
    "import time\n",
    "from datetime import datetime\n",
    "\n",
    "import numpy as np\n",
    "import scipy as sp\n",
    "import pandas as pd"
   ]
  },
  {
   "cell_type": "code",
   "execution_count": 2,
   "metadata": {},
   "outputs": [],
   "source": [
    "from selenium import webdriver"
   ]
  },
  {
   "cell_type": "code",
   "execution_count": 3,
   "metadata": {},
   "outputs": [],
   "source": [
    "# For downloads\n",
    "import os\n",
    "import shutil\n",
    "\n",
    "from selenium import webdriver\n",
    "from selenium.webdriver.support.ui import WebDriverWait\n",
    "\n",
    "# For element locating\n",
    "from selenium.common.exceptions import NoSuchElementException"
   ]
  },
  {
   "cell_type": "code",
   "execution_count": 4,
   "metadata": {},
   "outputs": [
    {
     "name": "stdout",
     "output_type": "stream",
     "text": [
      "RUN LOG 05/10/2021 19:03:21\n"
     ]
    }
   ],
   "source": [
    "print(\"RUN LOG\", datetime.now().strftime(\"%d/%m/%Y %H:%M:%S\"))"
   ]
  },
  {
   "cell_type": "markdown",
   "metadata": {},
   "source": [
    "#### Set up selenium webdriver; declare download file path"
   ]
  },
  {
   "cell_type": "code",
   "execution_count": 5,
   "metadata": {},
   "outputs": [],
   "source": [
    "chromeOptions = webdriver.ChromeOptions()\n",
    "prefs = {\"download.default_directory\" : \"C:\\\\Users\\\\asus\\\\Documents\\\\ArcGIS\\\\IRP\\\\GPX\"}\n",
    "chromeOptions.add_experimental_option(\"prefs\",prefs)\n",
    "chromedriver = \"C:\\chromedriver.exe\""
   ]
  },
  {
   "cell_type": "markdown",
   "metadata": {},
   "source": [
    "#### Browser Open"
   ]
  },
  {
   "cell_type": "code",
   "execution_count": 7,
   "metadata": {},
   "outputs": [],
   "source": [
    "driver = webdriver.Chrome(executable_path=chromedriver, options=chromeOptions)"
   ]
  },
  {
   "cell_type": "markdown",
   "metadata": {},
   "source": [
    "#### Define Function that renames downloaded files\n",
    "GPX files downloaded from Strava are have the original activity name as the default filename. This function allows the filename to be changed, in this case as integers for easy automated processing in ArcGIS."
   ]
  },
  {
   "cell_type": "code",
   "execution_count": 8,
   "metadata": {},
   "outputs": [],
   "source": [
    "# function to wait for download to finish and then rename the latest downloaded file\n",
    "download_dir = r\"C:\\\\Users\\\\asus\\\\Documents\\\\ArcGIS\\\\IRP\\\\GPX\"\n",
    "def wait_for_download_and_rename(newFilename):\n",
    "    # function to wait for all chrome downloads to finish\n",
    "    def chrome_downloads(drv):\n",
    "        if not \"chrome://downloads\" in drv.current_url: # if 'chrome downloads' is not current tab\n",
    "            drv.execute_script(\"window.open('');\") # open a new tab\n",
    "            drv.switch_to.window(driver.window_handles[1]) # switch to the new tab\n",
    "            drv.get(\"chrome://downloads/\") # navigate to chrome downloads\n",
    "        return drv.execute_script(\"\"\"\n",
    "            return document.querySelector('downloads-manager')\n",
    "            .shadowRoot.querySelector('#downloadsList')\n",
    "            .items.filter(e => e.state === 'COMPLETE')\n",
    "            .map(e => e.filePath || e.file_path || e.fileUrl || e.file_url);\n",
    "            \"\"\")\n",
    "    # wait for all the downloads to be completed\n",
    "    dld_file_paths = WebDriverWait(driver, 120, 1).until(chrome_downloads) # returns list of downloaded file paths\n",
    "    # Close the current tab (chrome downloads)\n",
    "    if \"chrome://downloads\" in driver.current_url:\n",
    "        driver.close()\n",
    "    # Switch back to original tab\n",
    "    driver.switch_to.window(driver.window_handles[0]) \n",
    "    # get latest downloaded file name and path\n",
    "    dlFilename = dld_file_paths[0] # latest downloaded file from the list\n",
    "    # wait till downloaded file appears in download directory\n",
    "    time_to_wait = 20 # adjust timeout as per your needs\n",
    "    time_counter = 0\n",
    "    while not os.path.isfile(dlFilename):\n",
    "        time.sleep(1)\n",
    "        time_counter += 1\n",
    "        if time_counter > time_to_wait:\n",
    "            break\n",
    "    # rename the downloaded file\n",
    "    shutil.move(dlFilename, os.path.join(download_dir,newFilename))\n",
    "    return"
   ]
  },
  {
   "cell_type": "markdown",
   "metadata": {},
   "source": [
    "### Strava Log in\n",
    "#### Log in required to access shared activity data"
   ]
  },
  {
   "cell_type": "code",
   "execution_count": 9,
   "metadata": {},
   "outputs": [],
   "source": [
    "driver.get(\"https://www.strava.com/login\")"
   ]
  },
  {
   "cell_type": "code",
   "execution_count": 10,
   "metadata": {},
   "outputs": [],
   "source": [
    "driver.find_element_by_id(\"email\").send_keys(\"\") #username email\n",
    "driver.find_element_by_id(\"password\").send_keys(\"\") #caution with password\n",
    "driver.find_element_by_id(\"login-button\").click()"
   ]
  },
  {
   "cell_type": "markdown",
   "metadata": {},
   "source": [
    "### Part 1: Segment selection (completed)\n",
    "Strava segments can be considered as directories containing individual activity uploads in leaderboards.\n",
    "\n",
    "1. Run through all Singapore segments using \"Segment Search\"\n",
    "2. Get segment name, link, string containing distance and number of attempts"
   ]
  },
  {
   "cell_type": "code",
   "execution_count": 11,
   "metadata": {},
   "outputs": [],
   "source": [
    "#df_segments_columns = ['presort_segment_ID','segment_link','segment_name','attempts','users','distance']\n",
    "#df_segments = pd.DataFrame(columns = df_segments_columns)\n",
    "#df_segments"
   ]
  },
  {
   "cell_type": "markdown",
   "metadata": {},
   "source": [
    "#### 1. Scrape Singapore segment links\n",
    "RUN PERFORMED ON 29/05/21 SEE LOG"
   ]
  },
  {
   "cell_type": "code",
   "execution_count": 2,
   "metadata": {},
   "outputs": [],
   "source": [
    "#driver.get(\"https://www.strava.com/segments/search\")\n",
    "#driver.find_element_by_id(\"keywords\").clear()\n",
    "#driver.find_element_by_id(\"keywords\").send_keys(\"singapore\")\n",
    "#driver.find_element_by_id(\"climb-search-button\").click()"
   ]
  },
  {
   "cell_type": "code",
   "execution_count": 35,
   "metadata": {},
   "outputs": [
    {
     "name": "stdout",
     "output_type": "stream",
     "text": [
      "RUN START 29/05/2021 00:19:09\n",
      "STARTING SEGMENT LINK COLLECTION:\n",
      "240 PAGES DONE; 6515 SEGMENTS RECORDED; RUNTIME = 108.05328154563904\n",
      "260 PAGES DONE; 7045 SEGMENTS RECORDED; RUNTIME = 229.20235896110535\n",
      "280 PAGES DONE; 7592 SEGMENTS RECORDED; RUNTIME = 352.8217890262604\n",
      "295 PAGES DONE; 7979 SEGMENTS RECORDED; RUNTIME = 444.31807923316956\n",
      "RUN END 29/05/2021 00:26:33\n"
     ]
    }
   ],
   "source": [
    "#p = 223 #p = 1\n",
    "#s_id = 6036 #s_id = 0\n",
    "#start_time = time.time()\n",
    "#print(\"RUN START \"+datetime.now().strftime(\"%d/%m/%Y %H:%M:%S\"))\n",
    "#print(\"STARTING SEGMENT LINK COLLECTION:\")\n",
    "#while  p: #test 2 pages; put an always true condition p <= 2\n",
    "#    if p > 1:\n",
    "#        try: \n",
    "#            driver.find_element_by_link_text(str(p)).click()\n",
    "#            time.sleep(4)\n",
    "#        except NoSuchElementException: # No next page\n",
    "#            break\n",
    "#    \n",
    "#    segment_table = driver.find_elements_by_xpath(\"//table[@class='search-results striped']//td/a\")\n",
    "#    for element in segment_table:\n",
    "#        s_id = s_id + 1\n",
    "#        df_segments.at[s_id-1,'presort_segment_ID'] = s_id\n",
    "#       df_segments.at[s_id-1,'segment_link'] = element.get_attribute('href')\n",
    "#        df_segments.at[s_id-1,'segment_name'] = element.get_attribute('title')\n",
    "    \n",
    "#    if p % 20 == 0:\n",
    "#        print(str(p)+' PAGES DONE; '+str(s_id)+' SEGMENTS RECORDED; RUNTIME = '+str(time.time()-start_time))\n",
    "        \n",
    "#    p = p + 1\n",
    "    \n",
    "#print(str(p-1)+' PAGES DONE; '+str(s_id)+' SEGMENTS RECORDED; RUNTIME = '+str(time.time()-start_time))\n",
    "#print(\"RUN END \"+datetime.now().strftime(\"%d/%m/%Y %H:%M:%S\"))\n",
    "##driver.quit()"
   ]
  },
  {
   "cell_type": "code",
   "execution_count": 22,
   "metadata": {},
   "outputs": [],
   "source": [
    "#df_segments.to_csv('all_segment_links.csv')"
   ]
  },
  {
   "cell_type": "code",
   "execution_count": 9,
   "metadata": {},
   "outputs": [],
   "source": [
    "#df_segments = pd.read_csv(\"all_segment_links.csv\")"
   ]
  },
  {
   "cell_type": "code",
   "execution_count": 11,
   "metadata": {},
   "outputs": [
    {
     "data": {
      "text/html": [
       "<div>\n",
       "<style scoped>\n",
       "    .dataframe tbody tr th:only-of-type {\n",
       "        vertical-align: middle;\n",
       "    }\n",
       "\n",
       "    .dataframe tbody tr th {\n",
       "        vertical-align: top;\n",
       "    }\n",
       "\n",
       "    .dataframe thead th {\n",
       "        text-align: right;\n",
       "    }\n",
       "</style>\n",
       "<table border=\"1\" class=\"dataframe\">\n",
       "  <thead>\n",
       "    <tr style=\"text-align: right;\">\n",
       "      <th></th>\n",
       "      <th>Unnamed: 0</th>\n",
       "      <th>presort_segment_ID</th>\n",
       "      <th>segment_link</th>\n",
       "      <th>segment_name</th>\n",
       "      <th>attempts</th>\n",
       "      <th>users</th>\n",
       "      <th>distance</th>\n",
       "    </tr>\n",
       "  </thead>\n",
       "  <tbody>\n",
       "    <tr>\n",
       "      <th>0</th>\n",
       "      <td>0</td>\n",
       "      <td>1</td>\n",
       "      <td>https://www.strava.com/segments/24896339</td>\n",
       "      <td>Singapore</td>\n",
       "      <td>NaN</td>\n",
       "      <td>NaN</td>\n",
       "      <td>NaN</td>\n",
       "    </tr>\n",
       "    <tr>\n",
       "      <th>1</th>\n",
       "      <td>1</td>\n",
       "      <td>2</td>\n",
       "      <td>https://www.strava.com/segments/6435027</td>\n",
       "      <td>North Bridge Boat Key Hell for Leather</td>\n",
       "      <td>NaN</td>\n",
       "      <td>NaN</td>\n",
       "      <td>NaN</td>\n",
       "    </tr>\n",
       "    <tr>\n",
       "      <th>2</th>\n",
       "      <td>2</td>\n",
       "      <td>3</td>\n",
       "      <td>https://www.strava.com/segments/6120298</td>\n",
       "      <td>North Bridge Road Climb</td>\n",
       "      <td>NaN</td>\n",
       "      <td>NaN</td>\n",
       "      <td>NaN</td>\n",
       "    </tr>\n",
       "    <tr>\n",
       "      <th>3</th>\n",
       "      <td>3</td>\n",
       "      <td>4</td>\n",
       "      <td>https://www.strava.com/segments/6825975</td>\n",
       "      <td>Boat Quay to Victoria St.@ Middle Road</td>\n",
       "      <td>NaN</td>\n",
       "      <td>NaN</td>\n",
       "      <td>NaN</td>\n",
       "    </tr>\n",
       "    <tr>\n",
       "      <th>4</th>\n",
       "      <td>4</td>\n",
       "      <td>5</td>\n",
       "      <td>https://www.strava.com/segments/6624218</td>\n",
       "      <td>RT Nicoll Highway to end ECP</td>\n",
       "      <td>NaN</td>\n",
       "      <td>NaN</td>\n",
       "      <td>NaN</td>\n",
       "    </tr>\n",
       "  </tbody>\n",
       "</table>\n",
       "</div>"
      ],
      "text/plain": [
       "   Unnamed: 0  presort_segment_ID                              segment_link  \\\n",
       "0           0                   1  https://www.strava.com/segments/24896339   \n",
       "1           1                   2   https://www.strava.com/segments/6435027   \n",
       "2           2                   3   https://www.strava.com/segments/6120298   \n",
       "3           3                   4   https://www.strava.com/segments/6825975   \n",
       "4           4                   5   https://www.strava.com/segments/6624218   \n",
       "\n",
       "                             segment_name  attempts  users  distance  \n",
       "0                               Singapore       NaN    NaN       NaN  \n",
       "1  North Bridge Boat Key Hell for Leather       NaN    NaN       NaN  \n",
       "2                 North Bridge Road Climb       NaN    NaN       NaN  \n",
       "3  Boat Quay to Victoria St.@ Middle Road       NaN    NaN       NaN  \n",
       "4            RT Nicoll Highway to end ECP       NaN    NaN       NaN  "
      ]
     },
     "execution_count": 11,
     "metadata": {},
     "output_type": "execute_result"
    }
   ],
   "source": [
    "#df_segments.head()"
   ]
  },
  {
   "cell_type": "markdown",
   "metadata": {},
   "source": [
    "#### 2. Run through all Individual Segments to get Popularity data and distance (completed)"
   ]
  },
  {
   "cell_type": "code",
   "execution_count": 3,
   "metadata": {},
   "outputs": [],
   "source": [
    "#print(\"RUN START \"+datetime.now().strftime(\"%d/%m/%Y %H:%M:%S\"))\n",
    "#start_time = time.time()\n",
    "#print(\"STARTING SEGMENT DATA RUN:\")\n",
    "\n",
    "#for i in df_segments['presort_segment_ID']:\n",
    "#i = 1003 #1218\n",
    "#while i <= 7979:\n",
    "#    driver.get(df_segments['segment_link'][i-1])\n",
    "\n",
    "#    numdata = driver.find_elements_by_xpath(\"//ul[@class='list-stats inline-stats stats-lg mt-md']//li//b\")\n",
    "#    dist_str = numdata[0].text\n",
    "#    dist = float(dist_str.split('km')[0])\n",
    "#    df_segments.at[i-1,'distance'] = dist\n",
    "#    #print(dist[0].text)\n",
    "\n",
    "    #GET ATTEMPTS STRING\n",
    "#    element = driver.find_element_by_xpath(\"//div[@class='stat attempts']\")\n",
    "#    pop_string = element.text\n",
    "#    pop = pop_string.split(' Attempts By ')\n",
    "#    df_segments.at[i-1,'attempts'] = int(pop[0].replace(',',''))\n",
    "#    users = pop[1].split(' People')[0]\n",
    "#    df_segments.at[i-1,'users'] = int(users.replace(',',''))\n",
    "    \n",
    "#    if i % 500 == 0:\n",
    "#        print(str(i)+' SEGMENTS RECORDED; RUNTIME = '+str(time.time()-start_time))\n",
    "    \n",
    "#    i = i + 1 #comment this when using the for loop\n",
    "\n",
    "#print(str(i)+' SEGMENTS RECORDED; RUNTIME = '+str(time.time()-start_time))  \n",
    "#print(\"RUN END \"+datetime.now().strftime(\"%d/%m/%Y %H:%M:%S\"))"
   ]
  },
  {
   "cell_type": "markdown",
   "metadata": {},
   "source": [
    "### Part 2 of Data Collection: Reverse Directory Sample\n",
    "Systematic random sample of segments before collecting individual activity links."
   ]
  },
  {
   "cell_type": "code",
   "execution_count": 11,
   "metadata": {},
   "outputs": [
    {
     "data": {
      "text/html": [
       "<div>\n",
       "<style scoped>\n",
       "    .dataframe tbody tr th:only-of-type {\n",
       "        vertical-align: middle;\n",
       "    }\n",
       "\n",
       "    .dataframe tbody tr th {\n",
       "        vertical-align: top;\n",
       "    }\n",
       "\n",
       "    .dataframe thead th {\n",
       "        text-align: right;\n",
       "    }\n",
       "</style>\n",
       "<table border=\"1\" class=\"dataframe\">\n",
       "  <thead>\n",
       "    <tr style=\"text-align: right;\">\n",
       "      <th></th>\n",
       "      <th>Unnamed: 0</th>\n",
       "      <th>Unnamed: 0.1</th>\n",
       "      <th>presort_segment_ID</th>\n",
       "      <th>segment_link</th>\n",
       "      <th>segment_name</th>\n",
       "      <th>attempts</th>\n",
       "      <th>users</th>\n",
       "      <th>distance</th>\n",
       "    </tr>\n",
       "  </thead>\n",
       "  <tbody>\n",
       "    <tr>\n",
       "      <th>7974</th>\n",
       "      <td>7974</td>\n",
       "      <td>7974</td>\n",
       "      <td>7975</td>\n",
       "      <td>https://www.strava.com/segments/24399751</td>\n",
       "      <td>Sakra Rd to Checkpoint</td>\n",
       "      <td>NaN</td>\n",
       "      <td>NaN</td>\n",
       "      <td>NaN</td>\n",
       "    </tr>\n",
       "    <tr>\n",
       "      <th>7975</th>\n",
       "      <td>7975</td>\n",
       "      <td>7975</td>\n",
       "      <td>7976</td>\n",
       "      <td>https://www.strava.com/segments/27702564</td>\n",
       "      <td>Bird cage to Artillery</td>\n",
       "      <td>NaN</td>\n",
       "      <td>NaN</td>\n",
       "      <td>NaN</td>\n",
       "    </tr>\n",
       "    <tr>\n",
       "      <th>7976</th>\n",
       "      <td>7976</td>\n",
       "      <td>7976</td>\n",
       "      <td>7977</td>\n",
       "      <td>https://www.strava.com/segments/25767847</td>\n",
       "      <td>The Sentosa 2020 legends 100km</td>\n",
       "      <td>NaN</td>\n",
       "      <td>NaN</td>\n",
       "      <td>NaN</td>\n",
       "    </tr>\n",
       "    <tr>\n",
       "      <th>7977</th>\n",
       "      <td>7977</td>\n",
       "      <td>7977</td>\n",
       "      <td>7978</td>\n",
       "      <td>https://www.strava.com/segments/25720886</td>\n",
       "      <td>Sentosa 2020 legends 10km</td>\n",
       "      <td>NaN</td>\n",
       "      <td>NaN</td>\n",
       "      <td>NaN</td>\n",
       "    </tr>\n",
       "    <tr>\n",
       "      <th>7978</th>\n",
       "      <td>7978</td>\n",
       "      <td>7978</td>\n",
       "      <td>7979</td>\n",
       "      <td>https://www.strava.com/segments/28580954</td>\n",
       "      <td>Goldeneye climb East to West</td>\n",
       "      <td>NaN</td>\n",
       "      <td>NaN</td>\n",
       "      <td>NaN</td>\n",
       "    </tr>\n",
       "  </tbody>\n",
       "</table>\n",
       "</div>"
      ],
      "text/plain": [
       "      Unnamed: 0  Unnamed: 0.1  presort_segment_ID  \\\n",
       "7974        7974          7974                7975   \n",
       "7975        7975          7975                7976   \n",
       "7976        7976          7976                7977   \n",
       "7977        7977          7977                7978   \n",
       "7978        7978          7978                7979   \n",
       "\n",
       "                                  segment_link  \\\n",
       "7974  https://www.strava.com/segments/24399751   \n",
       "7975  https://www.strava.com/segments/27702564   \n",
       "7976  https://www.strava.com/segments/25767847   \n",
       "7977  https://www.strava.com/segments/25720886   \n",
       "7978  https://www.strava.com/segments/28580954   \n",
       "\n",
       "                        segment_name  attempts  users  distance  \n",
       "7974          Sakra Rd to Checkpoint       NaN    NaN       NaN  \n",
       "7975          Bird cage to Artillery       NaN    NaN       NaN  \n",
       "7976  The Sentosa 2020 legends 100km       NaN    NaN       NaN  \n",
       "7977       Sentosa 2020 legends 10km       NaN    NaN       NaN  \n",
       "7978    Goldeneye climb East to West       NaN    NaN       NaN  "
      ]
     },
     "execution_count": 11,
     "metadata": {},
     "output_type": "execute_result"
    }
   ],
   "source": [
    "df_segments = pd.read_csv(\"all_segment_links.csv\")\n",
    "df_segments.tail()"
   ]
  },
  {
   "cell_type": "code",
   "execution_count": 11,
   "metadata": {},
   "outputs": [
    {
     "data": {
      "text/plain": [
       "475"
      ]
     },
     "execution_count": 11,
     "metadata": {},
     "output_type": "execute_result"
    }
   ],
   "source": [
    "df_segments['presort_segment_ID'][474]"
   ]
  },
  {
   "cell_type": "code",
   "execution_count": 17,
   "metadata": {},
   "outputs": [
    {
     "data": {
      "text/plain": [
       "507"
      ]
     },
     "execution_count": 17,
     "metadata": {},
     "output_type": "execute_result"
    }
   ],
   "source": [
    "#Creating a array of sample indices\n",
    "i = 387 #RNG generated 387 out of 1-479, loose values after 500x15\n",
    "segment_sample_index = []\n",
    "while i < 7979:\n",
    "    segment_sample_index.append(i)\n",
    "    i = i + 15 # add interval of 15\n",
    "len(segment_sample_index)"
   ]
  },
  {
   "cell_type": "code",
   "execution_count": 18,
   "metadata": {},
   "outputs": [
    {
     "data": {
      "text/plain": [
       "7887"
      ]
     },
     "execution_count": 18,
     "metadata": {},
     "output_type": "execute_result"
    }
   ],
   "source": [
    "segment_sample_index[500]"
   ]
  },
  {
   "cell_type": "code",
   "execution_count": 19,
   "metadata": {},
   "outputs": [
    {
     "data": {
      "text/html": [
       "<div>\n",
       "<style scoped>\n",
       "    .dataframe tbody tr th:only-of-type {\n",
       "        vertical-align: middle;\n",
       "    }\n",
       "\n",
       "    .dataframe tbody tr th {\n",
       "        vertical-align: top;\n",
       "    }\n",
       "\n",
       "    .dataframe thead th {\n",
       "        text-align: right;\n",
       "    }\n",
       "</style>\n",
       "<table border=\"1\" class=\"dataframe\">\n",
       "  <thead>\n",
       "    <tr style=\"text-align: right;\">\n",
       "      <th></th>\n",
       "      <th>segment_ID</th>\n",
       "      <th>presort_segment_ID</th>\n",
       "      <th>segment_link</th>\n",
       "      <th>segment_name</th>\n",
       "    </tr>\n",
       "  </thead>\n",
       "  <tbody>\n",
       "    <tr>\n",
       "      <th>0</th>\n",
       "      <td>1</td>\n",
       "      <td>388</td>\n",
       "      <td>https://www.strava.com/segments/8810949</td>\n",
       "      <td>Jurong Lake 3/4</td>\n",
       "    </tr>\n",
       "    <tr>\n",
       "      <th>1</th>\n",
       "      <td>2</td>\n",
       "      <td>403</td>\n",
       "      <td>https://www.strava.com/segments/8768215</td>\n",
       "      <td>Faber steep climb + descent + 7-11</td>\n",
       "    </tr>\n",
       "    <tr>\n",
       "      <th>2</th>\n",
       "      <td>3</td>\n",
       "      <td>418</td>\n",
       "      <td>https://www.strava.com/segments/11346021</td>\n",
       "      <td>Walnut ITT</td>\n",
       "    </tr>\n",
       "    <tr>\n",
       "      <th>3</th>\n",
       "      <td>4</td>\n",
       "      <td>433</td>\n",
       "      <td>https://www.strava.com/segments/13181989</td>\n",
       "      <td>Sungei Pandan Up and Over</td>\n",
       "    </tr>\n",
       "    <tr>\n",
       "      <th>4</th>\n",
       "      <td>5</td>\n",
       "      <td>448</td>\n",
       "      <td>https://www.strava.com/segments/12676981</td>\n",
       "      <td>Lor 4 TPY (Southbound)</td>\n",
       "    </tr>\n",
       "  </tbody>\n",
       "</table>\n",
       "</div>"
      ],
      "text/plain": [
       "  segment_ID presort_segment_ID                              segment_link  \\\n",
       "0          1                388   https://www.strava.com/segments/8810949   \n",
       "1          2                403   https://www.strava.com/segments/8768215   \n",
       "2          3                418  https://www.strava.com/segments/11346021   \n",
       "3          4                433  https://www.strava.com/segments/13181989   \n",
       "4          5                448  https://www.strava.com/segments/12676981   \n",
       "\n",
       "                         segment_name  \n",
       "0                     Jurong Lake 3/4  \n",
       "1  Faber steep climb + descent + 7-11  \n",
       "2                          Walnut ITT  \n",
       "3           Sungei Pandan Up and Over  \n",
       "4              Lor 4 TPY (Southbound)  "
      ]
     },
     "execution_count": 19,
     "metadata": {},
     "output_type": "execute_result"
    }
   ],
   "source": [
    "df_column_names = [\"segment_ID\",\"presort_segment_ID\",\"segment_link\",\"segment_name\"]\n",
    "segment_sample = pd.DataFrame(columns = df_column_names)\n",
    "\n",
    "n = 0  \n",
    "for i in segment_sample_index:\n",
    "    segment_sample.at[n,'segment_ID'] = n+1\n",
    "    segment_sample.at[n,'presort_segment_ID'] = df_segments['presort_segment_ID'][i]\n",
    "    segment_sample.at[n,'segment_link'] = df_segments['segment_link'][i]\n",
    "    segment_sample.at[n,'segment_name'] = df_segments['segment_name'][i]\n",
    "    n = n+1\n",
    "    \n",
    "segment_sample.head()"
   ]
  },
  {
   "cell_type": "code",
   "execution_count": 20,
   "metadata": {},
   "outputs": [],
   "source": [
    "segment_sample.to_csv('segment_sample_list.csv') #done"
   ]
  },
  {
   "cell_type": "markdown",
   "metadata": {},
   "source": [
    "# DATA COLLECTION PROPER"
   ]
  },
  {
   "cell_type": "markdown",
   "metadata": {},
   "source": [
    "### Activity Link Scraper"
   ]
  },
  {
   "cell_type": "code",
   "execution_count": 41,
   "metadata": {},
   "outputs": [
    {
     "data": {
      "text/html": [
       "<div>\n",
       "<style scoped>\n",
       "    .dataframe tbody tr th:only-of-type {\n",
       "        vertical-align: middle;\n",
       "    }\n",
       "\n",
       "    .dataframe tbody tr th {\n",
       "        vertical-align: top;\n",
       "    }\n",
       "\n",
       "    .dataframe thead th {\n",
       "        text-align: right;\n",
       "    }\n",
       "</style>\n",
       "<table border=\"1\" class=\"dataframe\">\n",
       "  <thead>\n",
       "    <tr style=\"text-align: right;\">\n",
       "      <th></th>\n",
       "      <th>segment_ID</th>\n",
       "      <th>link</th>\n",
       "      <th>attached_string</th>\n",
       "    </tr>\n",
       "  </thead>\n",
       "  <tbody>\n",
       "  </tbody>\n",
       "</table>\n",
       "</div>"
      ],
      "text/plain": [
       "Empty DataFrame\n",
       "Columns: [segment_ID, link, attached_string]\n",
       "Index: []"
      ]
     },
     "execution_count": 41,
     "metadata": {},
     "output_type": "execute_result"
    }
   ],
   "source": [
    "link_columns = [\"segment_ID\",'link','attached_string']\n",
    "df_links = pd.DataFrame(columns = link_columns)\n",
    "#df_links = pd.read_csv(\"new_trip_links_1.csv\")\n",
    "#df_links.tail()\n",
    "df_links"
   ]
  },
  {
   "cell_type": "code",
   "execution_count": 43,
   "metadata": {},
   "outputs": [
    {
     "data": {
      "text/html": [
       "<div>\n",
       "<style scoped>\n",
       "    .dataframe tbody tr th:only-of-type {\n",
       "        vertical-align: middle;\n",
       "    }\n",
       "\n",
       "    .dataframe tbody tr th {\n",
       "        vertical-align: top;\n",
       "    }\n",
       "\n",
       "    .dataframe thead th {\n",
       "        text-align: right;\n",
       "    }\n",
       "</style>\n",
       "<table border=\"1\" class=\"dataframe\">\n",
       "  <thead>\n",
       "    <tr style=\"text-align: right;\">\n",
       "      <th></th>\n",
       "      <th>Unnamed: 0</th>\n",
       "      <th>segment_ID</th>\n",
       "      <th>presort_segment_ID</th>\n",
       "      <th>segment_link</th>\n",
       "      <th>segment_name</th>\n",
       "    </tr>\n",
       "  </thead>\n",
       "  <tbody>\n",
       "    <tr>\n",
       "      <th>502</th>\n",
       "      <td>502</td>\n",
       "      <td>503</td>\n",
       "      <td>7918</td>\n",
       "      <td>https://www.strava.com/segments/24527894</td>\n",
       "      <td>The Sentosa Residents Loop</td>\n",
       "    </tr>\n",
       "    <tr>\n",
       "      <th>503</th>\n",
       "      <td>503</td>\n",
       "      <td>504</td>\n",
       "      <td>7933</td>\n",
       "      <td>https://www.strava.com/segments/3245775</td>\n",
       "      <td>Jalan Cepat Cepat</td>\n",
       "    </tr>\n",
       "    <tr>\n",
       "      <th>504</th>\n",
       "      <td>504</td>\n",
       "      <td>505</td>\n",
       "      <td>7948</td>\n",
       "      <td>https://www.strava.com/segments/12400831</td>\n",
       "      <td>Hell's descent</td>\n",
       "    </tr>\n",
       "    <tr>\n",
       "      <th>505</th>\n",
       "      <td>505</td>\n",
       "      <td>506</td>\n",
       "      <td>7963</td>\n",
       "      <td>https://www.strava.com/segments/15817375</td>\n",
       "      <td>Descending Sentosa</td>\n",
       "    </tr>\n",
       "    <tr>\n",
       "      <th>506</th>\n",
       "      <td>506</td>\n",
       "      <td>507</td>\n",
       "      <td>7978</td>\n",
       "      <td>https://www.strava.com/segments/25720886</td>\n",
       "      <td>Sentosa 2020 legends 10km</td>\n",
       "    </tr>\n",
       "  </tbody>\n",
       "</table>\n",
       "</div>"
      ],
      "text/plain": [
       "     Unnamed: 0  segment_ID  presort_segment_ID  \\\n",
       "502         502         503                7918   \n",
       "503         503         504                7933   \n",
       "504         504         505                7948   \n",
       "505         505         506                7963   \n",
       "506         506         507                7978   \n",
       "\n",
       "                                 segment_link                segment_name  \n",
       "502  https://www.strava.com/segments/24527894  The Sentosa Residents Loop  \n",
       "503   https://www.strava.com/segments/3245775           Jalan Cepat Cepat  \n",
       "504  https://www.strava.com/segments/12400831              Hell's descent  \n",
       "505  https://www.strava.com/segments/15817375          Descending Sentosa  \n",
       "506  https://www.strava.com/segments/25720886   Sentosa 2020 legends 10km  "
      ]
     },
     "execution_count": 43,
     "metadata": {},
     "output_type": "execute_result"
    }
   ],
   "source": [
    "segment_sample = pd.read_csv(\"segment_sample_list.csv\")\n",
    "segment_sample.tail()"
   ]
  },
  {
   "cell_type": "code",
   "execution_count": 35,
   "metadata": {},
   "outputs": [
    {
     "data": {
      "text/plain": [
       "'https://www.strava.com/segments/8768215'"
      ]
     },
     "execution_count": 35,
     "metadata": {},
     "output_type": "execute_result"
    }
   ],
   "source": [
    "segment_sample['segment_link'][1]"
   ]
  },
  {
   "cell_type": "code",
   "execution_count": 55,
   "metadata": {},
   "outputs": [
    {
     "name": "stdout",
     "output_type": "stream",
     "text": [
      "RUN START 03/07/2021 15:38:05\n",
      "STARTING DATA RUN FOR 300-500 SEGMENTS:\n",
      "300 SEGMENTS FINISHED; RUNTIME = 18.581103801727295\n",
      "320 SEGMENTS FINISHED; RUNTIME = 111.78015327453613\n",
      "340 SEGMENTS FINISHED; RUNTIME = 204.3497211933136\n",
      "360 SEGMENTS FINISHED; RUNTIME = 297.4293200969696\n",
      "380 SEGMENTS FINISHED; RUNTIME = 391.9255783557892\n",
      "400 SEGMENTS FINISHED; RUNTIME = 486.63601183891296\n",
      "420 SEGMENTS FINISHED; RUNTIME = 584.9138300418854\n",
      "440 SEGMENTS FINISHED; RUNTIME = 678.8813185691833\n",
      "460 SEGMENTS FINISHED; RUNTIME = 774.1221334934235\n",
      "480 SEGMENTS FINISHED; RUNTIME = 869.2587745189667\n",
      "500 SEGMENTS FINISHED; RUNTIME = 962.7524104118347\n",
      "24204 TOTAL ROWS RECORDED; RUNTIME = 971.9756817817688\n",
      "RUN END 03/07/2021 15:54:17\n"
     ]
    }
   ],
   "source": [
    "print(\"RUN START \"+datetime.now().strftime(\"%d/%m/%Y %H:%M:%S\"))\n",
    "start_time = time.time()\n",
    "print(\"STARTING DATA RUN FOR 300-500 SEGMENTS:\") #second run\n",
    "\n",
    "#segment_id = 99\n",
    "# Need to make segment loop - for segment in segments:\n",
    "#for segment in segment_sample['segment_link']:\n",
    "#n = 98\n",
    "#c = 4751\n",
    "while n < 507:\n",
    "    driver.get(segment_sample['segment_link'][n])\n",
    "    time.sleep(1)\n",
    "    try: \n",
    "        # check if leaderboard loaded properly / empty \n",
    "        data_table = driver.find_elements_by_xpath(\"//table[@class='table table-striped table-padded table-leaderboard']//td/a\")\n",
    "        if not data_table: # No next page\n",
    "            n = n + 1\n",
    "            continue\n",
    "        \n",
    "        time.sleep(1)\n",
    "        links = []\n",
    "        dates = []\n",
    "        for element in data_table:\n",
    "            links.append(element.get_attribute(\"href\"))\n",
    "            dates.append(element.get_attribute('text'))\n",
    "        i = 0\n",
    "        for link in links:\n",
    "            c = c + 1\n",
    "            df_links.at[c-1,'segment_ID'] = segment_id\n",
    "            df_links.at[c-1,'link'] = link\n",
    "            df_links.at[c-1,'attached_string'] = dates[i]\n",
    "            i = i + 1\n",
    "        \n",
    "    except NoSuchElementException: # No next page\n",
    "        n = n + 1\n",
    "        continue\n",
    "    \n",
    "    if (segment_id) % 20 == 0:\n",
    "        print(str(segment_id)+\" SEGMENTS\"+\" FINISHED; RUNTIME = \"+str(time.time()-start_time))\n",
    "        \n",
    "    segment_id = segment_id + 1\n",
    "    n = n + 1\n",
    "        \n",
    "print(str(c)+' TOTAL ROWS RECORDED; RUNTIME = '+str(time.time()-start_time))  \n",
    "print(\"RUN END \"+datetime.now().strftime(\"%d/%m/%Y %H:%M:%S\"))"
   ]
  },
  {
   "cell_type": "code",
   "execution_count": 56,
   "metadata": {},
   "outputs": [
    {
     "data": {
      "text/plain": [
       "24204"
      ]
     },
     "execution_count": 56,
     "metadata": {},
     "output_type": "execute_result"
    }
   ],
   "source": [
    "c"
   ]
  },
  {
   "cell_type": "code",
   "execution_count": 57,
   "metadata": {},
   "outputs": [
    {
     "data": {
      "text/plain": [
       "507"
      ]
     },
     "execution_count": 57,
     "metadata": {},
     "output_type": "execute_result"
    }
   ],
   "source": [
    "n"
   ]
  },
  {
   "cell_type": "code",
   "execution_count": 58,
   "metadata": {},
   "outputs": [
    {
     "data": {
      "text/html": [
       "<div>\n",
       "<style scoped>\n",
       "    .dataframe tbody tr th:only-of-type {\n",
       "        vertical-align: middle;\n",
       "    }\n",
       "\n",
       "    .dataframe tbody tr th {\n",
       "        vertical-align: top;\n",
       "    }\n",
       "\n",
       "    .dataframe thead th {\n",
       "        text-align: right;\n",
       "    }\n",
       "</style>\n",
       "<table border=\"1\" class=\"dataframe\">\n",
       "  <thead>\n",
       "    <tr style=\"text-align: right;\">\n",
       "      <th></th>\n",
       "      <th>segment_ID</th>\n",
       "      <th>link</th>\n",
       "      <th>attached_string</th>\n",
       "    </tr>\n",
       "  </thead>\n",
       "  <tbody>\n",
       "    <tr>\n",
       "      <th>0</th>\n",
       "      <td>1</td>\n",
       "      <td>https://www.strava.com/segment_efforts/3472297...</td>\n",
       "      <td>Feb 9, 2018</td>\n",
       "    </tr>\n",
       "    <tr>\n",
       "      <th>1</th>\n",
       "      <td>1</td>\n",
       "      <td>https://www.strava.com/athletes/15154811</td>\n",
       "      <td>Kai Xin Wong</td>\n",
       "    </tr>\n",
       "    <tr>\n",
       "      <th>2</th>\n",
       "      <td>1</td>\n",
       "      <td>https://www.strava.com/segment_efforts/3296546...</td>\n",
       "      <td>Dec 29, 2017</td>\n",
       "    </tr>\n",
       "    <tr>\n",
       "      <th>3</th>\n",
       "      <td>1</td>\n",
       "      <td>https://www.strava.com/athletes/17830127</td>\n",
       "      <td>Wen Sheng</td>\n",
       "    </tr>\n",
       "    <tr>\n",
       "      <th>4</th>\n",
       "      <td>1</td>\n",
       "      <td>https://www.strava.com/segment_efforts/2124085...</td>\n",
       "      <td>Feb 19, 2017</td>\n",
       "    </tr>\n",
       "    <tr>\n",
       "      <th>...</th>\n",
       "      <td>...</td>\n",
       "      <td>...</td>\n",
       "      <td>...</td>\n",
       "    </tr>\n",
       "    <tr>\n",
       "      <th>24199</th>\n",
       "      <td>502</td>\n",
       "      <td>https://www.strava.com/segment_efforts/2744360...</td>\n",
       "      <td>Sep 25, 2020</td>\n",
       "    </tr>\n",
       "    <tr>\n",
       "      <th>24200</th>\n",
       "      <td>502</td>\n",
       "      <td>https://www.strava.com/athletes/7447987</td>\n",
       "      <td>Sam Hiley #integratedriding</td>\n",
       "    </tr>\n",
       "    <tr>\n",
       "      <th>24201</th>\n",
       "      <td>502</td>\n",
       "      <td>https://www.strava.com/segment_efforts/2740841...</td>\n",
       "      <td>Mar 13, 2019</td>\n",
       "    </tr>\n",
       "    <tr>\n",
       "      <th>24202</th>\n",
       "      <td>502</td>\n",
       "      <td>https://www.strava.com/athletes/5588592</td>\n",
       "      <td>black black</td>\n",
       "    </tr>\n",
       "    <tr>\n",
       "      <th>24203</th>\n",
       "      <td>502</td>\n",
       "      <td>https://www.strava.com/segment_efforts/2740861...</td>\n",
       "      <td>Aug 4, 2016</td>\n",
       "    </tr>\n",
       "  </tbody>\n",
       "</table>\n",
       "<p>24204 rows × 3 columns</p>\n",
       "</div>"
      ],
      "text/plain": [
       "      segment_ID                                               link  \\\n",
       "0              1  https://www.strava.com/segment_efforts/3472297...   \n",
       "1              1           https://www.strava.com/athletes/15154811   \n",
       "2              1  https://www.strava.com/segment_efforts/3296546...   \n",
       "3              1           https://www.strava.com/athletes/17830127   \n",
       "4              1  https://www.strava.com/segment_efforts/2124085...   \n",
       "...          ...                                                ...   \n",
       "24199        502  https://www.strava.com/segment_efforts/2744360...   \n",
       "24200        502            https://www.strava.com/athletes/7447987   \n",
       "24201        502  https://www.strava.com/segment_efforts/2740841...   \n",
       "24202        502            https://www.strava.com/athletes/5588592   \n",
       "24203        502  https://www.strava.com/segment_efforts/2740861...   \n",
       "\n",
       "                   attached_string  \n",
       "0                      Feb 9, 2018  \n",
       "1                     Kai Xin Wong  \n",
       "2                     Dec 29, 2017  \n",
       "3                        Wen Sheng  \n",
       "4                     Feb 19, 2017  \n",
       "...                            ...  \n",
       "24199                 Sep 25, 2020  \n",
       "24200  Sam Hiley #integratedriding  \n",
       "24201                 Mar 13, 2019  \n",
       "24202                  black black  \n",
       "24203                  Aug 4, 2016  \n",
       "\n",
       "[24204 rows x 3 columns]"
      ]
     },
     "execution_count": 58,
     "metadata": {},
     "output_type": "execute_result"
    }
   ],
   "source": [
    "df_links"
   ]
  },
  {
   "cell_type": "code",
   "execution_count": 60,
   "metadata": {},
   "outputs": [
    {
     "data": {
      "text/plain": [
       "574"
      ]
     },
     "execution_count": 60,
     "metadata": {},
     "output_type": "execute_result"
    }
   ],
   "source": [
    "counter"
   ]
  },
  {
   "cell_type": "code",
   "execution_count": 61,
   "metadata": {},
   "outputs": [
    {
     "data": {
      "text/plain": [
       "'https://www.strava.com/segment_efforts/2826489140986369310'"
      ]
     },
     "execution_count": 61,
     "metadata": {},
     "output_type": "execute_result"
    }
   ],
   "source": [
    "df_links['link'][0]"
   ]
  },
  {
   "cell_type": "code",
   "execution_count": 32,
   "metadata": {},
   "outputs": [
    {
     "data": {
      "text/plain": [
       "['https://www.strava.com/segment_efforts/2827566496154786076',\n",
       " 'https://www.strava.com/segment_efforts/2832353113054084096',\n",
       " 'https://www.strava.com/segment_efforts/2833741267927012946',\n",
       " 'https://www.strava.com/segment_efforts/2827926136531652760']"
      ]
     },
     "execution_count": 32,
     "metadata": {},
     "output_type": "execute_result"
    }
   ],
   "source": [
    "links"
   ]
  },
  {
   "cell_type": "code",
   "execution_count": 59,
   "metadata": {},
   "outputs": [],
   "source": [
    "df_links.to_csv('new_trip_links_2.csv')"
   ]
  },
  {
   "cell_type": "code",
   "execution_count": 10,
   "metadata": {},
   "outputs": [
    {
     "data": {
      "text/html": [
       "<div>\n",
       "<style scoped>\n",
       "    .dataframe tbody tr th:only-of-type {\n",
       "        vertical-align: middle;\n",
       "    }\n",
       "\n",
       "    .dataframe tbody tr th {\n",
       "        vertical-align: top;\n",
       "    }\n",
       "\n",
       "    .dataframe thead th {\n",
       "        text-align: right;\n",
       "    }\n",
       "</style>\n",
       "<table border=\"1\" class=\"dataframe\">\n",
       "  <thead>\n",
       "    <tr style=\"text-align: right;\">\n",
       "      <th></th>\n",
       "      <th>Unnamed: 0</th>\n",
       "      <th>link_ID</th>\n",
       "      <th>segment_ID</th>\n",
       "      <th>link</th>\n",
       "      <th>date</th>\n",
       "      <th>age_range</th>\n",
       "      <th>sex</th>\n",
       "      <th>day</th>\n",
       "    </tr>\n",
       "  </thead>\n",
       "  <tbody>\n",
       "    <tr>\n",
       "      <th>1789</th>\n",
       "      <td>1789</td>\n",
       "      <td>1790</td>\n",
       "      <td>2</td>\n",
       "      <td>https://www.strava.com/segment_efforts/2831805...</td>\n",
       "      <td>May 24, 2021</td>\n",
       "      <td>55 to 64</td>\n",
       "      <td>Women</td>\n",
       "      <td>24</td>\n",
       "    </tr>\n",
       "    <tr>\n",
       "      <th>1790</th>\n",
       "      <td>1790</td>\n",
       "      <td>1791</td>\n",
       "      <td>2</td>\n",
       "      <td>https://www.strava.com/segment_efforts/2828847...</td>\n",
       "      <td>May 16, 2021</td>\n",
       "      <td>55 to 64</td>\n",
       "      <td>Women</td>\n",
       "      <td>16</td>\n",
       "    </tr>\n",
       "    <tr>\n",
       "      <th>1791</th>\n",
       "      <td>1791</td>\n",
       "      <td>1792</td>\n",
       "      <td>2</td>\n",
       "      <td>https://www.strava.com/segment_efforts/2823419...</td>\n",
       "      <td>May 1, 2021</td>\n",
       "      <td>55 to 64</td>\n",
       "      <td>Women</td>\n",
       "      <td>1</td>\n",
       "    </tr>\n",
       "    <tr>\n",
       "      <th>1792</th>\n",
       "      <td>1792</td>\n",
       "      <td>1793</td>\n",
       "      <td>2</td>\n",
       "      <td>https://www.strava.com/segment_efforts/2823415...</td>\n",
       "      <td>May 1, 2021</td>\n",
       "      <td>55 to 64</td>\n",
       "      <td>Women</td>\n",
       "      <td>1</td>\n",
       "    </tr>\n",
       "    <tr>\n",
       "      <th>1793</th>\n",
       "      <td>1793</td>\n",
       "      <td>1794</td>\n",
       "      <td>2</td>\n",
       "      <td>https://www.strava.com/segment_efforts/2823414...</td>\n",
       "      <td>May 1, 2021</td>\n",
       "      <td>65 to 69</td>\n",
       "      <td>Women</td>\n",
       "      <td>1</td>\n",
       "    </tr>\n",
       "  </tbody>\n",
       "</table>\n",
       "</div>"
      ],
      "text/plain": [
       "      Unnamed: 0  link_ID  segment_ID  \\\n",
       "1789        1789     1790           2   \n",
       "1790        1790     1791           2   \n",
       "1791        1791     1792           2   \n",
       "1792        1792     1793           2   \n",
       "1793        1793     1794           2   \n",
       "\n",
       "                                                   link          date  \\\n",
       "1789  https://www.strava.com/segment_efforts/2831805...  May 24, 2021   \n",
       "1790  https://www.strava.com/segment_efforts/2828847...  May 16, 2021   \n",
       "1791  https://www.strava.com/segment_efforts/2823419...   May 1, 2021   \n",
       "1792  https://www.strava.com/segment_efforts/2823415...   May 1, 2021   \n",
       "1793  https://www.strava.com/segment_efforts/2823414...   May 1, 2021   \n",
       "\n",
       "     age_range    sex  day  \n",
       "1789  55 to 64  Women   24  \n",
       "1790  55 to 64  Women   16  \n",
       "1791  55 to 64  Women    1  \n",
       "1792  55 to 64  Women    1  \n",
       "1793  65 to 69  Women    1  "
      ]
     },
     "execution_count": 10,
     "metadata": {},
     "output_type": "execute_result"
    }
   ],
   "source": [
    "#df_links = pd.read_csv(\"trip_links_3.csv\")\n",
    "#df_links.tail()"
   ]
  },
  {
   "cell_type": "markdown",
   "metadata": {},
   "source": [
    "# Data scraper"
   ]
  },
  {
   "cell_type": "code",
   "execution_count": 10,
   "metadata": {},
   "outputs": [
    {
     "data": {
      "text/html": [
       "<div>\n",
       "<style scoped>\n",
       "    .dataframe tbody tr th:only-of-type {\n",
       "        vertical-align: middle;\n",
       "    }\n",
       "\n",
       "    .dataframe tbody tr th {\n",
       "        vertical-align: top;\n",
       "    }\n",
       "\n",
       "    .dataframe thead th {\n",
       "        text-align: right;\n",
       "    }\n",
       "</style>\n",
       "<table border=\"1\" class=\"dataframe\">\n",
       "  <thead>\n",
       "    <tr style=\"text-align: right;\">\n",
       "      <th></th>\n",
       "      <th>Unnamed: 0</th>\n",
       "      <th>segment_ID</th>\n",
       "      <th>link</th>\n",
       "      <th>date</th>\n",
       "    </tr>\n",
       "  </thead>\n",
       "  <tbody>\n",
       "    <tr>\n",
       "      <th>6190</th>\n",
       "      <td>12380</td>\n",
       "      <td>502</td>\n",
       "      <td>https://www.strava.com/segment_efforts/2755962...</td>\n",
       "      <td>Oct 27, 2020</td>\n",
       "    </tr>\n",
       "    <tr>\n",
       "      <th>6191</th>\n",
       "      <td>12382</td>\n",
       "      <td>502</td>\n",
       "      <td>https://www.strava.com/segment_efforts/2740814...</td>\n",
       "      <td>Sep 9, 2020</td>\n",
       "    </tr>\n",
       "    <tr>\n",
       "      <th>6192</th>\n",
       "      <td>12384</td>\n",
       "      <td>502</td>\n",
       "      <td>https://www.strava.com/segment_efforts/2759572...</td>\n",
       "      <td>Nov 6, 2020</td>\n",
       "    </tr>\n",
       "    <tr>\n",
       "      <th>6193</th>\n",
       "      <td>12386</td>\n",
       "      <td>502</td>\n",
       "      <td>https://www.strava.com/segment_efforts/2740852...</td>\n",
       "      <td>Feb 10, 2018</td>\n",
       "    </tr>\n",
       "    <tr>\n",
       "      <th>6194</th>\n",
       "      <td>12388</td>\n",
       "      <td>502</td>\n",
       "      <td>https://www.strava.com/segment_efforts/2740841...</td>\n",
       "      <td>Mar 13, 2019</td>\n",
       "    </tr>\n",
       "  </tbody>\n",
       "</table>\n",
       "</div>"
      ],
      "text/plain": [
       "      Unnamed: 0  segment_ID  \\\n",
       "6190       12380         502   \n",
       "6191       12382         502   \n",
       "6192       12384         502   \n",
       "6193       12386         502   \n",
       "6194       12388         502   \n",
       "\n",
       "                                                   link          date  \n",
       "6190  https://www.strava.com/segment_efforts/2755962...  Oct 27, 2020  \n",
       "6191  https://www.strava.com/segment_efforts/2740814...   Sep 9, 2020  \n",
       "6192  https://www.strava.com/segment_efforts/2759572...   Nov 6, 2020  \n",
       "6193  https://www.strava.com/segment_efforts/2740852...  Feb 10, 2018  \n",
       "6194  https://www.strava.com/segment_efforts/2740841...  Mar 13, 2019  "
      ]
     },
     "execution_count": 10,
     "metadata": {},
     "output_type": "execute_result"
    }
   ],
   "source": [
    "df_links = pd.read_csv(\"final_trip_sample.csv\")\n",
    "df_links.tail()\n",
    "#df_links"
   ]
  },
  {
   "cell_type": "code",
   "execution_count": null,
   "metadata": {},
   "outputs": [],
   "source": []
  },
  {
   "cell_type": "code",
   "execution_count": 84,
   "metadata": {
    "scrolled": true
   },
   "outputs": [
    {
     "data": {
      "text/html": [
       "<div>\n",
       "<style scoped>\n",
       "    .dataframe tbody tr th:only-of-type {\n",
       "        vertical-align: middle;\n",
       "    }\n",
       "\n",
       "    .dataframe tbody tr th {\n",
       "        vertical-align: top;\n",
       "    }\n",
       "\n",
       "    .dataframe thead th {\n",
       "        text-align: right;\n",
       "    }\n",
       "</style>\n",
       "<table border=\"1\" class=\"dataframe\">\n",
       "  <thead>\n",
       "    <tr style=\"text-align: right;\">\n",
       "      <th></th>\n",
       "      <th>ID</th>\n",
       "      <th>segment_ID</th>\n",
       "      <th>link</th>\n",
       "      <th>date</th>\n",
       "      <th>activity_title</th>\n",
       "      <th>time_data</th>\n",
       "      <th>trip_data</th>\n",
       "      <th>commute</th>\n",
       "    </tr>\n",
       "  </thead>\n",
       "  <tbody>\n",
       "  </tbody>\n",
       "</table>\n",
       "</div>"
      ],
      "text/plain": [
       "Empty DataFrame\n",
       "Columns: [ID, segment_ID, link, date, activity_title, time_data, trip_data, commute]\n",
       "Index: []"
      ]
     },
     "execution_count": 84,
     "metadata": {},
     "output_type": "execute_result"
    }
   ],
   "source": [
    "#df_column_names = [\"ID\",\"link_ID\",\"segment_ID\",\"link\",'date','day','age_range','sex',\"time_data\",\"trip_data\",\"commute\"]\n",
    "#df_column_names = [\"ID\",\"segment_ID\",\"link\",'date','activity_title',\"time_data\",\"trip_data\",\"commute\"]\n",
    "#df = pd.DataFrame(columns = df_column_names)\n",
    "#df"
   ]
  },
  {
   "cell_type": "code",
   "execution_count": 11,
   "metadata": {},
   "outputs": [
    {
     "data": {
      "text/html": [
       "<div>\n",
       "<style scoped>\n",
       "    .dataframe tbody tr th:only-of-type {\n",
       "        vertical-align: middle;\n",
       "    }\n",
       "\n",
       "    .dataframe tbody tr th {\n",
       "        vertical-align: top;\n",
       "    }\n",
       "\n",
       "    .dataframe thead th {\n",
       "        text-align: right;\n",
       "    }\n",
       "</style>\n",
       "<table border=\"1\" class=\"dataframe\">\n",
       "  <thead>\n",
       "    <tr style=\"text-align: right;\">\n",
       "      <th></th>\n",
       "      <th>Unnamed: 0</th>\n",
       "      <th>Unnamed: 0.1</th>\n",
       "      <th>Unnamed: 0.1.1</th>\n",
       "      <th>Unnamed: 0.1.1.1</th>\n",
       "      <th>Unnamed: 0.1.1.1.1</th>\n",
       "      <th>ID</th>\n",
       "      <th>segment_ID</th>\n",
       "      <th>link</th>\n",
       "      <th>date</th>\n",
       "      <th>activity_title</th>\n",
       "      <th>time_data</th>\n",
       "      <th>trip_data</th>\n",
       "      <th>commute</th>\n",
       "    </tr>\n",
       "  </thead>\n",
       "  <tbody>\n",
       "    <tr>\n",
       "      <th>2601</th>\n",
       "      <td>2601</td>\n",
       "      <td>NaN</td>\n",
       "      <td>NaN</td>\n",
       "      <td>NaN</td>\n",
       "      <td>NaN</td>\n",
       "      <td>2602.0</td>\n",
       "      <td>363.0</td>\n",
       "      <td>https://www.strava.com/segment_efforts/2829698...</td>\n",
       "      <td>Feb 2, 2020</td>\n",
       "      <td>Morning Ride</td>\n",
       "      <td>Sunday, February 2, 2020</td>\n",
       "      <td>47.10km\\nDistance\\n1:18:16\\nMoving Time\\n205m\\...</td>\n",
       "      <td>0.0</td>\n",
       "    </tr>\n",
       "    <tr>\n",
       "      <th>2602</th>\n",
       "      <td>2602</td>\n",
       "      <td>NaN</td>\n",
       "      <td>NaN</td>\n",
       "      <td>NaN</td>\n",
       "      <td>NaN</td>\n",
       "      <td>2603.0</td>\n",
       "      <td>363.0</td>\n",
       "      <td>https://www.strava.com/segment_efforts/2829691...</td>\n",
       "      <td>Oct 20, 2020</td>\n",
       "      <td>Evening Ride</td>\n",
       "      <td>Tuesday, October 20, 2020</td>\n",
       "      <td>51.10km\\nDistance\\n1:36:32\\nMoving Time\\n219m\\...</td>\n",
       "      <td>0.0</td>\n",
       "    </tr>\n",
       "    <tr>\n",
       "      <th>2603</th>\n",
       "      <td>2603</td>\n",
       "      <td>NaN</td>\n",
       "      <td>NaN</td>\n",
       "      <td>NaN</td>\n",
       "      <td>NaN</td>\n",
       "      <td>2604.0</td>\n",
       "      <td>363.0</td>\n",
       "      <td>https://www.strava.com/segment_efforts/2834768...</td>\n",
       "      <td>Jun 1, 2021</td>\n",
       "      <td>Afternoon Ride</td>\n",
       "      <td>Tuesday, June 1, 2021</td>\n",
       "      <td>45.97km\\nDistance\\n1:20:21\\nMoving Time\\n199m\\...</td>\n",
       "      <td>0.0</td>\n",
       "    </tr>\n",
       "    <tr>\n",
       "      <th>2604</th>\n",
       "      <td>2604</td>\n",
       "      <td>NaN</td>\n",
       "      <td>NaN</td>\n",
       "      <td>NaN</td>\n",
       "      <td>NaN</td>\n",
       "      <td>2605.0</td>\n",
       "      <td>363.0</td>\n",
       "      <td>https://www.strava.com/segment_efforts/2829686...</td>\n",
       "      <td>Mar 19, 2021</td>\n",
       "      <td>Morning Ride - part 2 LCK &amp; OCCK loop x2</td>\n",
       "      <td>Friday, March 19, 2021</td>\n",
       "      <td>29.66km\\nDistance\\n50:36\\nMoving Time\\n155m\\nE...</td>\n",
       "      <td>0.0</td>\n",
       "    </tr>\n",
       "    <tr>\n",
       "      <th>2605</th>\n",
       "      <td>2605</td>\n",
       "      <td>NaN</td>\n",
       "      <td>NaN</td>\n",
       "      <td>NaN</td>\n",
       "      <td>NaN</td>\n",
       "      <td>2606.0</td>\n",
       "      <td>363.0</td>\n",
       "      <td>https://www.strava.com/segment_efforts/2829696...</td>\n",
       "      <td>Jun 5, 2020</td>\n",
       "      <td>Rip to me for tmr’s RI</td>\n",
       "      <td>Friday, June 5, 2020</td>\n",
       "      <td>44.57km\\nDistance\\n1:19:11\\nMoving Time\\n172m\\...</td>\n",
       "      <td>0.0</td>\n",
       "    </tr>\n",
       "  </tbody>\n",
       "</table>\n",
       "</div>"
      ],
      "text/plain": [
       "      Unnamed: 0  Unnamed: 0.1  Unnamed: 0.1.1  Unnamed: 0.1.1.1  \\\n",
       "2601        2601           NaN             NaN               NaN   \n",
       "2602        2602           NaN             NaN               NaN   \n",
       "2603        2603           NaN             NaN               NaN   \n",
       "2604        2604           NaN             NaN               NaN   \n",
       "2605        2605           NaN             NaN               NaN   \n",
       "\n",
       "      Unnamed: 0.1.1.1.1      ID  segment_ID  \\\n",
       "2601                 NaN  2602.0       363.0   \n",
       "2602                 NaN  2603.0       363.0   \n",
       "2603                 NaN  2604.0       363.0   \n",
       "2604                 NaN  2605.0       363.0   \n",
       "2605                 NaN  2606.0       363.0   \n",
       "\n",
       "                                                   link          date  \\\n",
       "2601  https://www.strava.com/segment_efforts/2829698...   Feb 2, 2020   \n",
       "2602  https://www.strava.com/segment_efforts/2829691...  Oct 20, 2020   \n",
       "2603  https://www.strava.com/segment_efforts/2834768...   Jun 1, 2021   \n",
       "2604  https://www.strava.com/segment_efforts/2829686...  Mar 19, 2021   \n",
       "2605  https://www.strava.com/segment_efforts/2829696...   Jun 5, 2020   \n",
       "\n",
       "                                activity_title                  time_data  \\\n",
       "2601                              Morning Ride   Sunday, February 2, 2020   \n",
       "2602                              Evening Ride  Tuesday, October 20, 2020   \n",
       "2603                            Afternoon Ride      Tuesday, June 1, 2021   \n",
       "2604  Morning Ride - part 2 LCK & OCCK loop x2     Friday, March 19, 2021   \n",
       "2605                    Rip to me for tmr’s RI       Friday, June 5, 2020   \n",
       "\n",
       "                                              trip_data  commute  \n",
       "2601  47.10km\\nDistance\\n1:18:16\\nMoving Time\\n205m\\...      0.0  \n",
       "2602  51.10km\\nDistance\\n1:36:32\\nMoving Time\\n219m\\...      0.0  \n",
       "2603  45.97km\\nDistance\\n1:20:21\\nMoving Time\\n199m\\...      0.0  \n",
       "2604  29.66km\\nDistance\\n50:36\\nMoving Time\\n155m\\nE...      0.0  \n",
       "2605  44.57km\\nDistance\\n1:19:11\\nMoving Time\\n172m\\...      0.0  "
      ]
     },
     "execution_count": 11,
     "metadata": {},
     "output_type": "execute_result"
    }
   ],
   "source": [
    "df = pd.read_csv(\"RUN2_ACTIVITY_DATA_12.csv\")\n",
    "df.tail()"
   ]
  },
  {
   "cell_type": "code",
   "execution_count": 18,
   "metadata": {},
   "outputs": [
    {
     "data": {
      "text/html": [
       "<div>\n",
       "<style scoped>\n",
       "    .dataframe tbody tr th:only-of-type {\n",
       "        vertical-align: middle;\n",
       "    }\n",
       "\n",
       "    .dataframe tbody tr th {\n",
       "        vertical-align: top;\n",
       "    }\n",
       "\n",
       "    .dataframe thead th {\n",
       "        text-align: right;\n",
       "    }\n",
       "</style>\n",
       "<table border=\"1\" class=\"dataframe\">\n",
       "  <thead>\n",
       "    <tr style=\"text-align: right;\">\n",
       "      <th></th>\n",
       "      <th>ID</th>\n",
       "      <th>link</th>\n",
       "      <th>activity_title</th>\n",
       "      <th>time_data</th>\n",
       "      <th>trip_data</th>\n",
       "      <th>commute</th>\n",
       "    </tr>\n",
       "  </thead>\n",
       "  <tbody>\n",
       "  </tbody>\n",
       "</table>\n",
       "</div>"
      ],
      "text/plain": [
       "Empty DataFrame\n",
       "Columns: [ID, link, activity_title, time_data, trip_data, commute]\n",
       "Index: []"
      ]
     },
     "execution_count": 18,
     "metadata": {},
     "output_type": "execute_result"
    }
   ],
   "source": [
    "#df_column_names = [\"ID\",\"link_ID\",\"segment_ID\",\"link\",'date','day','age_range','sex',\"time_data\",\"trip_data\",\"commute\"]\n",
    "#df_column_names = [\"ID\",\"segment_ID\",\"link\",'date','activity_title',\"time_data\",\"trip_data\",\"commute\"]\n",
    "df_column_names = [\"ID\",\"link\",'activity_title',\"time_data\",\"trip_data\",\"commute\"]\n",
    "df = pd.DataFrame(columns = df_column_names)\n",
    "df"
   ]
  },
  {
   "cell_type": "code",
   "execution_count": 29,
   "metadata": {},
   "outputs": [],
   "source": [
    "# set ID to 0 on first run; set to last ID value if needed\n",
    "# DAY 1 - test run 10\n",
    "#id = 0\n",
    "#N = 1\n",
    "##id = 48\n",
    "##N = 97\n",
    "#id=all trips with GPX\n",
    "#N=all trips incl no GPX, plus one to start\n",
    "# DAY 2\n",
    "#id = 571\n",
    "#N = 997\n",
    "# DAY 3\n",
    "#id = 1863\n",
    "#N = 3191\n",
    "# DAY 4\n",
    "#id = 2606\n",
    "#N = 4467\n",
    "id = 3071 #3071&3072 is duplicate\n",
    "N = 5219\n"
   ]
  },
  {
   "cell_type": "code",
   "execution_count": 26,
   "metadata": {
    "scrolled": false
   },
   "outputs": [
    {
     "name": "stdout",
     "output_type": "stream",
     "text": [
      "RUN START 05/10/2021 19:43:23\n",
      "25 TRIPS RECORDED; ID = 69 RUNTIME = 327.86648774147034\n",
      "50 TRIPS RECORDED; ID = 88 RUNTIME = 635.6737492084503\n",
      "100 TRIPS RECORDED; ID = 123 RUNTIME = 1271.7830722332\n",
      "125 TRIPS RECORDED; ID = 146 RUNTIME = 1633.5588867664337\n",
      "150 TRIPS RECORDED; ID = 167 RUNTIME = 1966.3251826763153\n",
      "200 TRIPS RECORDED; ID = 209 RUNTIME = 2640.125331878662\n"
     ]
    },
    {
     "ename": "KeyError",
     "evalue": "290",
     "output_type": "error",
     "traceback": [
      "\u001b[1;31m---------------------------------------------------------------------------\u001b[0m",
      "\u001b[1;31mKeyError\u001b[0m                                  Traceback (most recent call last)",
      "\u001b[1;32m<ipython-input-26-217cdaec2d90>\u001b[0m in \u001b[0;36m<module>\u001b[1;34m\u001b[0m\n\u001b[0;32m     11\u001b[0m \u001b[1;33m\u001b[0m\u001b[0m\n\u001b[0;32m     12\u001b[0m \u001b[1;32mwhile\u001b[0m \u001b[0mC\u001b[0m \u001b[1;33m<=\u001b[0m \u001b[1;36m290\u001b[0m\u001b[1;33m:\u001b[0m \u001b[1;31m# how many trips gone through in the run\u001b[0m\u001b[1;33m\u001b[0m\u001b[1;33m\u001b[0m\u001b[0m\n\u001b[1;32m---> 13\u001b[1;33m     \u001b[0mdriver\u001b[0m\u001b[1;33m.\u001b[0m\u001b[0mget\u001b[0m\u001b[1;33m(\u001b[0m\u001b[0mdf_links\u001b[0m\u001b[1;33m[\u001b[0m\u001b[1;34m'link'\u001b[0m\u001b[1;33m]\u001b[0m\u001b[1;33m[\u001b[0m\u001b[0mN\u001b[0m\u001b[1;33m-\u001b[0m\u001b[1;36m1\u001b[0m\u001b[1;33m]\u001b[0m\u001b[1;33m)\u001b[0m\u001b[1;33m\u001b[0m\u001b[1;33m\u001b[0m\u001b[0m\n\u001b[0m\u001b[0;32m     14\u001b[0m     \u001b[1;31m# GPX indicator\u001b[0m\u001b[1;33m\u001b[0m\u001b[1;33m\u001b[0m\u001b[1;33m\u001b[0m\u001b[0m\n\u001b[0;32m     15\u001b[0m     \u001b[1;32mtry\u001b[0m\u001b[1;33m:\u001b[0m\u001b[1;33m\u001b[0m\u001b[1;33m\u001b[0m\u001b[0m\n",
      "\u001b[1;32m~\\anaconda3\\lib\\site-packages\\pandas\\core\\series.py\u001b[0m in \u001b[0;36m__getitem__\u001b[1;34m(self, key)\u001b[0m\n\u001b[0;32m    869\u001b[0m         \u001b[0mkey\u001b[0m \u001b[1;33m=\u001b[0m \u001b[0mcom\u001b[0m\u001b[1;33m.\u001b[0m\u001b[0mapply_if_callable\u001b[0m\u001b[1;33m(\u001b[0m\u001b[0mkey\u001b[0m\u001b[1;33m,\u001b[0m \u001b[0mself\u001b[0m\u001b[1;33m)\u001b[0m\u001b[1;33m\u001b[0m\u001b[1;33m\u001b[0m\u001b[0m\n\u001b[0;32m    870\u001b[0m         \u001b[1;32mtry\u001b[0m\u001b[1;33m:\u001b[0m\u001b[1;33m\u001b[0m\u001b[1;33m\u001b[0m\u001b[0m\n\u001b[1;32m--> 871\u001b[1;33m             \u001b[0mresult\u001b[0m \u001b[1;33m=\u001b[0m \u001b[0mself\u001b[0m\u001b[1;33m.\u001b[0m\u001b[0mindex\u001b[0m\u001b[1;33m.\u001b[0m\u001b[0mget_value\u001b[0m\u001b[1;33m(\u001b[0m\u001b[0mself\u001b[0m\u001b[1;33m,\u001b[0m \u001b[0mkey\u001b[0m\u001b[1;33m)\u001b[0m\u001b[1;33m\u001b[0m\u001b[1;33m\u001b[0m\u001b[0m\n\u001b[0m\u001b[0;32m    872\u001b[0m \u001b[1;33m\u001b[0m\u001b[0m\n\u001b[0;32m    873\u001b[0m             \u001b[1;32mif\u001b[0m \u001b[1;32mnot\u001b[0m \u001b[0mis_scalar\u001b[0m\u001b[1;33m(\u001b[0m\u001b[0mresult\u001b[0m\u001b[1;33m)\u001b[0m\u001b[1;33m:\u001b[0m\u001b[1;33m\u001b[0m\u001b[1;33m\u001b[0m\u001b[0m\n",
      "\u001b[1;32m~\\anaconda3\\lib\\site-packages\\pandas\\core\\indexes\\base.py\u001b[0m in \u001b[0;36mget_value\u001b[1;34m(self, series, key)\u001b[0m\n\u001b[0;32m   4403\u001b[0m         \u001b[0mk\u001b[0m \u001b[1;33m=\u001b[0m \u001b[0mself\u001b[0m\u001b[1;33m.\u001b[0m\u001b[0m_convert_scalar_indexer\u001b[0m\u001b[1;33m(\u001b[0m\u001b[0mk\u001b[0m\u001b[1;33m,\u001b[0m \u001b[0mkind\u001b[0m\u001b[1;33m=\u001b[0m\u001b[1;34m\"getitem\"\u001b[0m\u001b[1;33m)\u001b[0m\u001b[1;33m\u001b[0m\u001b[1;33m\u001b[0m\u001b[0m\n\u001b[0;32m   4404\u001b[0m         \u001b[1;32mtry\u001b[0m\u001b[1;33m:\u001b[0m\u001b[1;33m\u001b[0m\u001b[1;33m\u001b[0m\u001b[0m\n\u001b[1;32m-> 4405\u001b[1;33m             \u001b[1;32mreturn\u001b[0m \u001b[0mself\u001b[0m\u001b[1;33m.\u001b[0m\u001b[0m_engine\u001b[0m\u001b[1;33m.\u001b[0m\u001b[0mget_value\u001b[0m\u001b[1;33m(\u001b[0m\u001b[0ms\u001b[0m\u001b[1;33m,\u001b[0m \u001b[0mk\u001b[0m\u001b[1;33m,\u001b[0m \u001b[0mtz\u001b[0m\u001b[1;33m=\u001b[0m\u001b[0mgetattr\u001b[0m\u001b[1;33m(\u001b[0m\u001b[0mseries\u001b[0m\u001b[1;33m.\u001b[0m\u001b[0mdtype\u001b[0m\u001b[1;33m,\u001b[0m \u001b[1;34m\"tz\"\u001b[0m\u001b[1;33m,\u001b[0m \u001b[1;32mNone\u001b[0m\u001b[1;33m)\u001b[0m\u001b[1;33m)\u001b[0m\u001b[1;33m\u001b[0m\u001b[1;33m\u001b[0m\u001b[0m\n\u001b[0m\u001b[0;32m   4406\u001b[0m         \u001b[1;32mexcept\u001b[0m \u001b[0mKeyError\u001b[0m \u001b[1;32mas\u001b[0m \u001b[0me1\u001b[0m\u001b[1;33m:\u001b[0m\u001b[1;33m\u001b[0m\u001b[1;33m\u001b[0m\u001b[0m\n\u001b[0;32m   4407\u001b[0m             \u001b[1;32mif\u001b[0m \u001b[0mlen\u001b[0m\u001b[1;33m(\u001b[0m\u001b[0mself\u001b[0m\u001b[1;33m)\u001b[0m \u001b[1;33m>\u001b[0m \u001b[1;36m0\u001b[0m \u001b[1;32mand\u001b[0m \u001b[1;33m(\u001b[0m\u001b[0mself\u001b[0m\u001b[1;33m.\u001b[0m\u001b[0mholds_integer\u001b[0m\u001b[1;33m(\u001b[0m\u001b[1;33m)\u001b[0m \u001b[1;32mor\u001b[0m \u001b[0mself\u001b[0m\u001b[1;33m.\u001b[0m\u001b[0mis_boolean\u001b[0m\u001b[1;33m(\u001b[0m\u001b[1;33m)\u001b[0m\u001b[1;33m)\u001b[0m\u001b[1;33m:\u001b[0m\u001b[1;33m\u001b[0m\u001b[1;33m\u001b[0m\u001b[0m\n",
      "\u001b[1;32mpandas\\_libs\\index.pyx\u001b[0m in \u001b[0;36mpandas._libs.index.IndexEngine.get_value\u001b[1;34m()\u001b[0m\n",
      "\u001b[1;32mpandas\\_libs\\index.pyx\u001b[0m in \u001b[0;36mpandas._libs.index.IndexEngine.get_value\u001b[1;34m()\u001b[0m\n",
      "\u001b[1;32mpandas\\_libs\\index.pyx\u001b[0m in \u001b[0;36mpandas._libs.index.IndexEngine.get_loc\u001b[1;34m()\u001b[0m\n",
      "\u001b[1;32mpandas\\_libs\\hashtable_class_helper.pxi\u001b[0m in \u001b[0;36mpandas._libs.hashtable.Int64HashTable.get_item\u001b[1;34m()\u001b[0m\n",
      "\u001b[1;32mpandas\\_libs\\hashtable_class_helper.pxi\u001b[0m in \u001b[0;36mpandas._libs.hashtable.Int64HashTable.get_item\u001b[1;34m()\u001b[0m\n",
      "\u001b[1;31mKeyError\u001b[0m: 290"
     ]
    }
   ],
   "source": [
    "# NOTE: this code snippet was run on 05-10-2021 for a DOH project with a different set of Strava activity links\n",
    "\n",
    "print(\"RUN START \"+datetime.now().strftime(\"%d/%m/%Y %H:%M:%S\"))\n",
    "start_time = time.time()\n",
    "\n",
    "# trip counter for run\n",
    "C = 1\n",
    "# ID does not reset when run - careful on ID value when rerunning\n",
    "\n",
    "#counters\n",
    "with_gpx = 0\n",
    "no_gpx = 0\n",
    "\n",
    "while C <= 290: # how many trips gone through in the run\n",
    "    driver.get(df_links['link'][N-1])\n",
    "    # GPX indicator\n",
    "    try:\n",
    "        gpx = driver.find_element_by_id(\"gpx-download\")\n",
    "        with_gpx = with_gpx + 1\n",
    "        id = id + 1 \n",
    "        df.at[id-1,'ID'] = id\n",
    "        #df.at[id-1,'segment_ID'] = df_links['segment_ID'][N-1]\n",
    "        df.at[id-1,'link'] = df_links['link'][N-1]\n",
    "        #df.at[id-1,'date'] = df_links['date'][N-1]\n",
    "        \n",
    "        title = driver.find_element_by_xpath(\"//h1[@class='text-title1 marginless activity-name']\").text\n",
    "        df.at[id-1,'activity_title'] = title\n",
    "        \n",
    "        time_data = driver.find_element_by_xpath(\"//time\").text\n",
    "        df.at[id-1,'time_data'] = time_data\n",
    "        \n",
    "        trip_data = driver.find_element_by_xpath(\"//ul[@class='inline-stats section']\").text\n",
    "        df.at[id-1,'trip_data'] = trip_data\n",
    "        \n",
    "        # Commute indicator\n",
    "        commute_tag = '\"commute\":1.0'\n",
    "        elem = driver.find_element_by_xpath(\"//*\")\n",
    "        source_code = elem.get_attribute(\"outerHTML\")\n",
    "        if commute_tag.lower() in str(source_code).lower():\n",
    "            commute = 1\n",
    "            df.at[id-1,'commute'] = commute\n",
    "        else:\n",
    "            commute = 0\n",
    "            df.at[id-1,'commute'] = commute\n",
    "            \n",
    "        # Download GPX file and rename into ID number\n",
    "        driver.find_element_by_link_text(\"GPX\").click()\n",
    "        time.sleep(9)\n",
    "        wait_for_download_and_rename(str(id) + '.gpx')\n",
    "        time.sleep(2)\n",
    "        C = C + 1\n",
    "        N = N + 1\n",
    "        \n",
    "    # Skip condition if GPX download unavailable for the upload\n",
    "    except NoSuchElementException:\n",
    "        no_gpx = no_gpx + 1\n",
    "        C = C + 1\n",
    "        N = N + 1\n",
    "        continue\n",
    "    \n",
    "    if (C-1) % 25 == 0:\n",
    "        print(str(C-1)+' TRIPS RECORDED; ID = '+str(id)+' RUNTIME = '+str(time.time()-start_time))\n",
    "\n",
    "print(\"RUN FINISHED! \"+str(with_gpx)+\" GPX DOWNLOADED, \"+str(no_gpx)+\" HAVE NO GPX. RUN = \"+str(C-1)+\" TRIPS, TOTAL = \"+str(N-1))\n",
    "#start next run at N\n",
    "print(\"RUN END \"+datetime.now().strftime(\"%d/%m/%Y %H:%M:%S\"))"
   ]
  },
  {
   "cell_type": "code",
   "execution_count": 21,
   "metadata": {},
   "outputs": [
    {
     "data": {
      "text/plain": [
       "66"
      ]
     },
     "execution_count": 21,
     "metadata": {},
     "output_type": "execute_result"
    }
   ],
   "source": [
    "C"
   ]
  },
  {
   "cell_type": "code",
   "execution_count": 22,
   "metadata": {},
   "outputs": [
    {
     "data": {
      "text/plain": [
       "66"
      ]
     },
     "execution_count": 22,
     "metadata": {},
     "output_type": "execute_result"
    }
   ],
   "source": [
    "#N=4017\n",
    "N"
   ]
  },
  {
   "cell_type": "code",
   "execution_count": 23,
   "metadata": {},
   "outputs": [
    {
     "data": {
      "text/plain": [
       "49"
      ]
     },
     "execution_count": 23,
     "metadata": {},
     "output_type": "execute_result"
    }
   ],
   "source": [
    "id"
   ]
  },
  {
   "cell_type": "code",
   "execution_count": 27,
   "metadata": {
    "scrolled": true
   },
   "outputs": [
    {
     "data": {
      "text/html": [
       "<div>\n",
       "<style scoped>\n",
       "    .dataframe tbody tr th:only-of-type {\n",
       "        vertical-align: middle;\n",
       "    }\n",
       "\n",
       "    .dataframe tbody tr th {\n",
       "        vertical-align: top;\n",
       "    }\n",
       "\n",
       "    .dataframe thead th {\n",
       "        text-align: right;\n",
       "    }\n",
       "</style>\n",
       "<table border=\"1\" class=\"dataframe\">\n",
       "  <thead>\n",
       "    <tr style=\"text-align: right;\">\n",
       "      <th></th>\n",
       "      <th>ID</th>\n",
       "      <th>link</th>\n",
       "      <th>activity_title</th>\n",
       "      <th>time_data</th>\n",
       "      <th>trip_data</th>\n",
       "      <th>commute</th>\n",
       "    </tr>\n",
       "  </thead>\n",
       "  <tbody>\n",
       "    <tr>\n",
       "      <th>226</th>\n",
       "      <td>227</td>\n",
       "      <td>https://strava.app.link/IkhxDRXk1jb</td>\n",
       "      <td>Bulacan: a test of patience</td>\n",
       "      <td>Sunday, September 26, 2021</td>\n",
       "      <td>101.31km\\nDistance\\n5:53:14\\nMoving Time\\n434m...</td>\n",
       "      <td>0</td>\n",
       "    </tr>\n",
       "    <tr>\n",
       "      <th>227</th>\n",
       "      <td>228</td>\n",
       "      <td>https://strava.app.link/ScxjrlZk1jb</td>\n",
       "      <td>New saddle + Nihon Cafe + night ride</td>\n",
       "      <td>Tuesday, September 28, 2021</td>\n",
       "      <td>26.30km\\nDistance\\n1:50:24\\nMoving Time\\n129m\\...</td>\n",
       "      <td>0</td>\n",
       "    </tr>\n",
       "    <tr>\n",
       "      <th>228</th>\n",
       "      <td>229</td>\n",
       "      <td>https://www.strava.com/activities/6030393781</td>\n",
       "      <td>Bike to work</td>\n",
       "      <td>8:56 AM on Tuesday, September 28, 2021</td>\n",
       "      <td>17.41km\\nDistance\\n1:01:04\\nMoving Time\\n121m\\...</td>\n",
       "      <td>1</td>\n",
       "    </tr>\n",
       "    <tr>\n",
       "      <th>229</th>\n",
       "      <td>230</td>\n",
       "      <td>https://www.strava.com/activities/6035515392</td>\n",
       "      <td>Morning Ride</td>\n",
       "      <td>7:38 AM on Wednesday, September 29, 2021</td>\n",
       "      <td>8.37km\\nDistance\\n35:20\\nMoving Time\\n43m\\nEle...</td>\n",
       "      <td>1</td>\n",
       "    </tr>\n",
       "    <tr>\n",
       "      <th>230</th>\n",
       "      <td>231</td>\n",
       "      <td>https://www.strava.com/activities/6036947870</td>\n",
       "      <td>Bike to work pt2 (BTW2)</td>\n",
       "      <td>5:17 PM on Wednesday, September 29, 2021</td>\n",
       "      <td>16.43km\\nDistance\\n1:07:53\\nMoving Time\\n140m\\...</td>\n",
       "      <td>1</td>\n",
       "    </tr>\n",
       "  </tbody>\n",
       "</table>\n",
       "</div>"
      ],
      "text/plain": [
       "      ID                                           link  \\\n",
       "226  227           https://strava.app.link/IkhxDRXk1jb    \n",
       "227  228            https://strava.app.link/ScxjrlZk1jb   \n",
       "228  229  https://www.strava.com/activities/6030393781    \n",
       "229  230  https://www.strava.com/activities/6035515392    \n",
       "230  231   https://www.strava.com/activities/6036947870   \n",
       "\n",
       "                           activity_title  \\\n",
       "226           Bulacan: a test of patience   \n",
       "227  New saddle + Nihon Cafe + night ride   \n",
       "228                          Bike to work   \n",
       "229                          Morning Ride   \n",
       "230               Bike to work pt2 (BTW2)   \n",
       "\n",
       "                                    time_data  \\\n",
       "226                Sunday, September 26, 2021   \n",
       "227               Tuesday, September 28, 2021   \n",
       "228    8:56 AM on Tuesday, September 28, 2021   \n",
       "229  7:38 AM on Wednesday, September 29, 2021   \n",
       "230  5:17 PM on Wednesday, September 29, 2021   \n",
       "\n",
       "                                             trip_data commute  \n",
       "226  101.31km\\nDistance\\n5:53:14\\nMoving Time\\n434m...       0  \n",
       "227  26.30km\\nDistance\\n1:50:24\\nMoving Time\\n129m\\...       0  \n",
       "228  17.41km\\nDistance\\n1:01:04\\nMoving Time\\n121m\\...       1  \n",
       "229  8.37km\\nDistance\\n35:20\\nMoving Time\\n43m\\nEle...       1  \n",
       "230  16.43km\\nDistance\\n1:07:53\\nMoving Time\\n140m\\...       1  "
      ]
     },
     "execution_count": 27,
     "metadata": {},
     "output_type": "execute_result"
    }
   ],
   "source": [
    "df.tail()"
   ]
  },
  {
   "cell_type": "markdown",
   "metadata": {},
   "source": [
    "Activity data in .csv files are processed in a separate Python program as well as in ArcGIS"
   ]
  },
  {
   "cell_type": "code",
   "execution_count": 28,
   "metadata": {},
   "outputs": [],
   "source": [
    "#df.to_csv('RUN2_ACTIVITY_DATA_15.csv')\n",
    "#df.to_csv('DOH_RIDE_DATA.csv')"
   ]
  }
 ],
 "metadata": {
  "kernelspec": {
   "display_name": "Python 3",
   "language": "python",
   "name": "python3"
  },
  "language_info": {
   "codemirror_mode": {
    "name": "ipython",
    "version": 3
   },
   "file_extension": ".py",
   "mimetype": "text/x-python",
   "name": "python",
   "nbconvert_exporter": "python",
   "pygments_lexer": "ipython3",
   "version": "3.8.3"
  }
 },
 "nbformat": 4,
 "nbformat_minor": 4
}
